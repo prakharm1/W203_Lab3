{
 "cells": [
  {
   "cell_type": "markdown",
   "metadata": {},
   "source": [
    "# Understanding the influence of public policy decisions on Covid19 infections across US states"
   ]
  },
  {
   "cell_type": "markdown",
   "metadata": {},
   "source": [
    "## Introduction\n",
    "\n",
    "Covid19 has presented a challenge at global scale not experienced in last 100 years. This pandemic has made significant changes in the way we interact with each other and engage in commerce. US lead the world in the number of Covid19 infections and covid related deaths. \n",
    "\n",
    "US response to this pandemic was different from most of the world in one fundamental way. Whereas most countries in the world had federal government leading state and local government in terms of setting up and enforcing policies, US took the opposite approach. The response to the pandemic was orchestrated by state government and thus there is a huge variation in the public policy decision timelines across states. \n",
    "\n",
    "US is a very diverse country and states are very different from each other from the perspective of population density, population distribution and other fundamental factors. \n",
    "\n",
    "Thus a <u>natural question</u> arises:\n",
    "\n",
    "**Can we attribute the variation in state level public policy decisions (specifically the duration of shelter in place and duration of non-essesntial business closure) to the variation in infections per capita after accounting for the fundamental differentiators like population density and susceptible population percentage?**\n",
    "\n",
    "This is an important question towards undersatnding the effect of public policy decisions on the state of infections per state. It is important to state that the public policy features independently might explain a lot of variation in the infection rates in different state. But if we really want to measure the effect of public policy actions, we need to account for the legitimate difference that exist across states. Given COVID19 is a highly contagious disease, polulation density is an obvious affecting factor which might make the difference. \n",
    "\n",
    "In our subsequent analysis, we chose to do the following:\n",
    "\n",
    "1. <b>Dependent Variable</b>: We chose $RatePer100000$ as the dependent variable. It is important to note that we are not working with sheer number of infections rather the infections normalized by population size as we expect this to be more correct approach for our exploration\n",
    "2. <b>Independent Variables</b>: We are planning to work with the folloing dependent variables:\n",
    "    1. **Population density per square mile**: Variable type (real numbber); we expect population density to be one of the important predictors of teh infection rate given Covid19 is an infectious disease\n",
    "    2. **Percent at risk for serious illness due to covid**: Variable type (real number between 0-100); We expect that the next most important aspect is the percent of susceptible population for this highly contagious disease. \n",
    "    3. **Percent living under federal poverty line**: Variable type (real number between 0-100); Although a sub-section of US workforce (specially at the upper echelon of pay-scale) was able to work from home, workforce at the lower pay-scale had to disproportionately take the risk and potentially expose themselves to the risky situation. Hence, we expect this feature to be important when comparing the infection rates across states\n",
    "    4. **Duration of shelter in place order in days (as of 2020-07-06)**: Variable type (Integer); The first policy decision that we examine is the shelter in place order duration across states. We want to check if, after controlling for first 3 variables, we see a statistically significant impact of shelter in place duration on the infection rate\n",
    "    5. **Duration of mandated face-masks in days (as of 2020-07-06)**: Variable type (Integer); The Second policy decision that we examine is the mandated face-mask duration across states. We want to check if, after controlling for first 3 variables, we see a statistically significant impact of this policy on the infection rate\n",
    "    \n",
    "    \n",
    "### Considerations:\n",
    "1. Independent variable 2 and 3 might be correlated\n",
    "2. The public policies that we want to examine might be highly correlated with each other\n",
    "\n",
    "### Potential issues: \n",
    "1. There might be important variables missing from the dataset which might affect our conclusions. We will discuss thsi more in later sections\n",
    "2. Poor population size might have significantly changed since 2018 as we don't have the most up to date data on it\n",
    "\n",
    "It will be important to analyse the independent variable relationships to do this right.  "
   ]
  },
  {
   "cell_type": "markdown",
   "metadata": {},
   "source": [
    "## Exploratory Data Analysis"
   ]
  },
  {
   "cell_type": "markdown",
   "metadata": {},
   "source": [
    "### 1. Extracting relevant data\n",
    "\n",
    "Starting with the large data file, we first will focus on extracting the key features that we have discussed earlier to be part of our consideration set."
   ]
  },
  {
   "cell_type": "code",
   "execution_count": 140,
   "metadata": {},
   "outputs": [],
   "source": [
    "# collecting the dependent and independent variables\n",
    "\n",
    "y = c('RatePer100000')\n",
    "X = c('Population.density.per.square.miles', \n",
    "      'Percent.at.risk.for.serious.illness.due.to.COVID', \n",
    "      'Percent.living.under.the.federal.poverty.line..2018.', \n",
    "      'Stay.at.home..shelter.in.place', 'End.relax.stay.at.home.shelter.in.place', \n",
    "      'Mandate.face.mask.use.by.employees.in.public.facing.businesses')\n",
    "oth = c('State')\n",
    "\n",
    "filename = 'Lab3_data.csv'"
   ]
  },
  {
   "cell_type": "code",
   "execution_count": 141,
   "metadata": {},
   "outputs": [],
   "source": [
    "# Reading the full data\n",
    "data_full <- read.csv(filename) "
   ]
  },
  {
   "cell_type": "code",
   "execution_count": 181,
   "metadata": {},
   "outputs": [],
   "source": [
    "# Extracting only relevant columns to the key data frame\n",
    "data <- data_full[,c(oth, y, X)]"
   ]
  },
  {
   "cell_type": "code",
   "execution_count": 182,
   "metadata": {},
   "outputs": [],
   "source": [
    "# Changing the column names to be more human readable\n",
    "\n",
    "colnames(data) <- c('state', 'RatePer100000', 'PopulationDensity', 'PercentAtRisk', 'PercentUnderPoverty', \n",
    "                    'ShelterInPlaceStart', 'ShelterInPlaceEnd', 'FaceMaskMandated')"
   ]
  },
  {
   "cell_type": "code",
   "execution_count": 183,
   "metadata": {},
   "outputs": [
    {
     "data": {
      "text/plain": [
       "        state    RatePer100000    PopulationDensity  PercentAtRisk  \n",
       " Alabama   : 1   Min.   :  66.1   Min.   :    1.11   Min.   :30.00  \n",
       " Alaska    : 1   1st Qu.: 467.5   1st Qu.:   51.69   1st Qu.:35.98  \n",
       " arizona   : 1   Median : 723.9   Median :   91.11   Median :38.65  \n",
       " Arizona   : 1   Mean   : 837.3   Mean   :  386.30   Mean   :38.16  \n",
       " Arkansas  : 1   3rd Qu.:1036.4   3rd Qu.:  204.35   3rd Qu.:40.58  \n",
       " California: 1   Max.   :4220.4   Max.   :11496.81   Max.   :49.30  \n",
       " (Other)   :46                                                      \n",
       " PercentUnderPoverty ShelterInPlaceStart ShelterInPlaceEnd  FaceMaskMandated\n",
       " Min.   : 7.60       0        :12        0        :16      0        :10     \n",
       " 1st Qu.:10.97       3/24/2020: 6        5/18/2020: 4      5/1/2020 : 7     \n",
       " Median :12.85       3/25/2020: 5        5/4/2020 : 4      5/11/2020: 4     \n",
       " Mean   :12.93       3/28/2020: 5        5/1/2020 : 3      5/4/2020 : 3     \n",
       " 3rd Qu.:14.15       3/30/2020: 4        5/15/2020: 3      5/8/2020 : 3     \n",
       " Max.   :19.70       3/23/2020: 3        5/29/2020: 3      4/17/2020: 2     \n",
       "                     (Other)  :17        (Other)  :19      (Other)  :23     "
      ]
     },
     "metadata": {},
     "output_type": "display_data"
    }
   ],
   "source": [
    "# preliminary data summary\n",
    "summary(data)"
   ]
  },
  {
   "cell_type": "markdown",
   "metadata": {},
   "source": [
    "### 2. Data Cleaning\n",
    "\n",
    "We see that there are 52 rows of data where each row should represent one US state. Data set included Washignton DC so we expected the data set to contain only 51 rows. After some investigation we find that Arizona has two rows:"
   ]
  },
  {
   "cell_type": "code",
   "execution_count": 184,
   "metadata": {},
   "outputs": [
    {
     "data": {
      "text/html": [
       "<table>\n",
       "<thead><tr><th></th><th scope=col>state</th><th scope=col>RatePer100000</th><th scope=col>PopulationDensity</th><th scope=col>PercentAtRisk</th><th scope=col>PercentUnderPoverty</th><th scope=col>ShelterInPlaceStart</th><th scope=col>ShelterInPlaceEnd</th><th scope=col>FaceMaskMandated</th></tr></thead>\n",
       "<tbody>\n",
       "\t<tr><th scope=row>3</th><td>Arizona  </td><td>1367.7   </td><td>62.91    </td><td>39.1     </td><td>14       </td><td>3/31/2020</td><td>5/16/2020</td><td>5/8/2020 </td></tr>\n",
       "\t<tr><th scope=row>4</th><td>arizona  </td><td>1367.7   </td><td>62.91    </td><td>39.1     </td><td>14       </td><td>3/31/2020</td><td>5/16/2020</td><td>5/8/2020 </td></tr>\n",
       "</tbody>\n",
       "</table>\n"
      ],
      "text/latex": [
       "\\begin{tabular}{r|llllllll}\n",
       "  & state & RatePer100000 & PopulationDensity & PercentAtRisk & PercentUnderPoverty & ShelterInPlaceStart & ShelterInPlaceEnd & FaceMaskMandated\\\\\n",
       "\\hline\n",
       "\t3 & Arizona   & 1367.7    & 62.91     & 39.1      & 14        & 3/31/2020 & 5/16/2020 & 5/8/2020 \\\\\n",
       "\t4 & arizona   & 1367.7    & 62.91     & 39.1      & 14        & 3/31/2020 & 5/16/2020 & 5/8/2020 \\\\\n",
       "\\end{tabular}\n"
      ],
      "text/markdown": [
       "\n",
       "| <!--/--> | state | RatePer100000 | PopulationDensity | PercentAtRisk | PercentUnderPoverty | ShelterInPlaceStart | ShelterInPlaceEnd | FaceMaskMandated |\n",
       "|---|---|---|---|---|---|---|---|---|\n",
       "| 3 | Arizona   | 1367.7    | 62.91     | 39.1      | 14        | 3/31/2020 | 5/16/2020 | 5/8/2020  |\n",
       "| 4 | arizona   | 1367.7    | 62.91     | 39.1      | 14        | 3/31/2020 | 5/16/2020 | 5/8/2020  |\n",
       "\n"
      ],
      "text/plain": [
       "  state   RatePer100000 PopulationDensity PercentAtRisk PercentUnderPoverty\n",
       "3 Arizona 1367.7        62.91             39.1          14                 \n",
       "4 arizona 1367.7        62.91             39.1          14                 \n",
       "  ShelterInPlaceStart ShelterInPlaceEnd FaceMaskMandated\n",
       "3 3/31/2020           5/16/2020         5/8/2020        \n",
       "4 3/31/2020           5/16/2020         5/8/2020        "
      ]
     },
     "metadata": {},
     "output_type": "display_data"
    }
   ],
   "source": [
    "# Extracting data rows for arizona\n",
    "data[3:4,]"
   ]
  },
  {
   "cell_type": "markdown",
   "metadata": {},
   "source": [
    "It seems that both rows have exact same values for all relevant columns. Hence it seems safe to just delete row 4 so that we can have the right dataset. "
   ]
  },
  {
   "cell_type": "code",
   "execution_count": 185,
   "metadata": {},
   "outputs": [
    {
     "data": {
      "text/plain": [
       "        state    RatePer100000    PopulationDensity  PercentAtRisk  \n",
       " Alabama   : 1   Min.   :  66.1   Min.   :    1.11   Min.   :30.00  \n",
       " Alaska    : 1   1st Qu.: 458.6   1st Qu.:   48.66   1st Qu.:35.95  \n",
       " Arizona   : 1   Median : 717.4   Median :   93.24   Median :38.30  \n",
       " Arkansas  : 1   Mean   : 826.9   Mean   :  392.64   Mean   :38.15  \n",
       " California: 1   3rd Qu.:1013.2   3rd Qu.:  209.56   3rd Qu.:40.65  \n",
       " Colorado  : 1   Max.   :4220.4   Max.   :11496.81   Max.   :49.30  \n",
       " (Other)   :45                                                      \n",
       " PercentUnderPoverty ShelterInPlaceStart ShelterInPlaceEnd  FaceMaskMandated\n",
       " Min.   : 7.60       0        :12        0        :16      0        :10     \n",
       " 1st Qu.:10.95       3/24/2020: 6        5/18/2020: 4      5/1/2020 : 7     \n",
       " Median :12.80       3/25/2020: 5        5/4/2020 : 4      5/11/2020: 4     \n",
       " Mean   :12.91       3/28/2020: 5        5/1/2020 : 3      5/4/2020 : 3     \n",
       " 3rd Qu.:14.20       3/30/2020: 4        5/15/2020: 3      4/17/2020: 2     \n",
       " Max.   :19.70       3/23/2020: 3        5/29/2020: 3      4/18/2020: 2     \n",
       "                     (Other)  :16        (Other)  :18      (Other)  :23     "
      ]
     },
     "metadata": {},
     "output_type": "display_data"
    }
   ],
   "source": [
    "data <- data[-c(4),]              # removing row 4 \n",
    "rownames(data) <- 1:nrow(data)    # renaming the rows of dataframe\n",
    "summary(data)                     # data summary "
   ]
  },
  {
   "cell_type": "code",
   "execution_count": 186,
   "metadata": {},
   "outputs": [],
   "source": [
    "# Converting the date columns to string types\n",
    "data$ShelterInPlaceStart<- as.character(data$ShelterInPlaceStart)\n",
    "data$ShelterInPlaceEnd<- as.character(data$ShelterInPlaceEnd)\n",
    "data$FaceMaskMandated<- as.character(data$FaceMaskMandated)"
   ]
  },
  {
   "cell_type": "markdown",
   "metadata": {},
   "source": [
    "### 3. Feature Extraction\n",
    "\n",
    "<b>Reference Date</b>: Our dependent variable is updated as of 2020/07/06, hence we will use this date as the reference date for calculating duration based features\n",
    "\n",
    "We want to extract the following features from the data:\n",
    "1. Duration of shelter in place order in days (as of 2020-07-06)\n",
    "2. Duration of mandated face masks in days (as of 2020-07-06)\n",
    "\n",
    "For this we need to look out for the following:\n",
    "\n",
    "* **Replacement of 0 with the reference date (2020/07/06)**:There are a lot of 0s in the date columns. The interpretation of 0 is that the particular policy is either not yet enforeced (In case of $ShelterInPlaceStart$ and $FaceMaskMandated$) or not yet relaxed (in case of $ShelterInPlaceEnd$). We need to do the following:\n",
    "    - Replace all the 0 in the date columns with string '2020/07/06' (i.e. 6th July 2020)\n",
    "    - Convert the date columns to date type \n",
    "    - Calculate the differences (in days) between $ShelterInPlaceStart$ and $ShelterInPlaceEnd$ column and the date in $FaceMaskMandated$ with the refence date\n",
    "    - Check for the negative durations (as this will indicate data quality issues) "
   ]
  },
  {
   "cell_type": "code",
   "execution_count": 187,
   "metadata": {},
   "outputs": [],
   "source": [
    "# duration of shelter in place function\n",
    "sip_func <- function(x){\n",
    "    ifelse(x[1]=='0', 0, ifelse(x[2]=='0', as.numeric(as.Date('7/6/2020', '%m/%d/%Y')-as.Date(x[1], '%m/%d/%Y')), as.numeric(as.Date(x[2], '%m/%d/%Y') - as.Date(x[1], '%m/%d/%Y'))))\n",
    "}"
   ]
  },
  {
   "cell_type": "code",
   "execution_count": 188,
   "metadata": {},
   "outputs": [],
   "source": [
    "# duration of mandated mask\n",
    "mask_func <- function(x){\n",
    "    ifelse(x=='0', 0, as.numeric(as.Date('7/6/2020', '%m/%d/%Y')-as.Date(x, '%m/%d/%Y')))\n",
    "}"
   ]
  },
  {
   "cell_type": "code",
   "execution_count": 189,
   "metadata": {},
   "outputs": [],
   "source": [
    "# Extracting features\n",
    "data$ShelterInPlaceDuration <- apply(data[, c('ShelterInPlaceStart', 'ShelterInPlaceEnd')], 1, sip_func)\n",
    "data$MandatedMaskDuration <- apply(data['FaceMaskMandated'], 1, mask_func)"
   ]
  },
  {
   "cell_type": "markdown",
   "metadata": {},
   "source": [
    "### Cleaning up and extracting only relevant features"
   ]
  },
  {
   "cell_type": "code",
   "execution_count": 190,
   "metadata": {},
   "outputs": [],
   "source": [
    "ref <- c('state')\n",
    "y <- c('RatePer100000')\n",
    "x_final <- c('PopulationDensity', 'PercentAtRisk', 'PercentUnderPoverty', 'ShelterInPlaceDuration', 'MandatedMaskDuration')"
   ]
  },
  {
   "cell_type": "code",
   "execution_count": 191,
   "metadata": {},
   "outputs": [],
   "source": [
    "data <- data[, c(ref, y, x_final)]"
   ]
  },
  {
   "cell_type": "code",
   "execution_count": 192,
   "metadata": {},
   "outputs": [
    {
     "data": {
      "text/plain": [
       "        state    RatePer100000    PopulationDensity  PercentAtRisk  \n",
       " Alabama   : 1   Min.   :  66.1   Min.   :    1.11   Min.   :30.00  \n",
       " Alaska    : 1   1st Qu.: 458.6   1st Qu.:   48.66   1st Qu.:35.95  \n",
       " Arizona   : 1   Median : 717.4   Median :   93.24   Median :38.30  \n",
       " Arkansas  : 1   Mean   : 826.9   Mean   :  392.64   Mean   :38.15  \n",
       " California: 1   3rd Qu.:1013.2   3rd Qu.:  209.56   3rd Qu.:40.65  \n",
       " Colorado  : 1   Max.   :4220.4   Max.   :11496.81   Max.   :49.30  \n",
       " (Other)   :45                                                      \n",
       " PercentUnderPoverty ShelterInPlaceDuration MandatedMaskDuration\n",
       " Min.   : 7.60       Min.   :  0.00         Min.   : 0.00       \n",
       " 1st Qu.:10.95       1st Qu.: 25.00         1st Qu.:47.00       \n",
       " Median :12.80       Median : 42.00         Median :63.00       \n",
       " Mean   :12.91       Mean   : 41.45         Mean   :52.75       \n",
       " 3rd Qu.:14.20       3rd Qu.: 59.00         3rd Qu.:70.50       \n",
       " Max.   :19.70       Max.   :109.00         Max.   :94.00       \n",
       "                                                                "
      ]
     },
     "metadata": {},
     "output_type": "display_data"
    }
   ],
   "source": [
    "summary(data)"
   ]
  },
  {
   "cell_type": "code",
   "execution_count": 193,
   "metadata": {},
   "outputs": [
    {
     "data": {
      "image/png": "[encoded data removed]",
      "text/plain": [
       "plot without title"
      ]
     },
     "metadata": {},
     "output_type": "display_data"
    }
   ],
   "source": [
    "panel.cor <- function(x, y, digits=2, prefix=\"\", cex.cor, ...)\n",
    "{\n",
    "    usr <- par(\"usr\"); on.exit(par(usr))\n",
    "    par(usr = c(0, 1, 0, 1))\n",
    "    r <- abs(cor(x, y))\n",
    "    txt <- format(c(r, 0.123456789), digits=digits)[1]\n",
    "    txt <- paste(prefix, txt, sep=\"\")\n",
    "    cex.cor <- 8\n",
    "    text(0.5, 0.5, txt, cex = cex.cor * r)\n",
    "}\n",
    " \n",
    "# Plot #2: same as above, but add loess smoother in lower and correlation in upper\n",
    "pairs(~RatePer100000+PopulationDensity+PercentUnderPoverty+ShelterInPlaceDuration+MandatedMaskDuration, data=data,\n",
    "      lower.panel=panel.smooth, upper.panel=panel.cor, \n",
    "      pch=20, main=\"Covid19 Scatterplot Matrix\")"
   ]
  },
  {
   "cell_type": "markdown",
   "metadata": {},
   "source": [
    "The whole data seems to be skewed by the includion of Washigton DC and the huge population density. As we are comparing states and DC is not a state (and significantly different than a state), we suggest to remove DC from the dataset."
   ]
  },
  {
   "cell_type": "code",
   "execution_count": 194,
   "metadata": {},
   "outputs": [],
   "source": [
    "# Removing DC from the training data\n",
    "data <- data[!(data$state == 'District of Columbia'),]"
   ]
  },
  {
   "cell_type": "code",
   "execution_count": 195,
   "metadata": {},
   "outputs": [
    {
     "data": {
      "image/png": "[encoded data removed]",
      "text/plain": [
       "plot without title"
      ]
     },
     "metadata": {},
     "output_type": "display_data"
    }
   ],
   "source": [
    "pairs(~RatePer100000+PopulationDensity+PercentUnderPoverty+ShelterInPlaceDuration+MandatedMaskDuration, data=data,\n",
    "      lower.panel=panel.smooth, upper.panel=panel.cor, \n",
    "      pch=20, main=\"Covid19 Scatterplot Matrix\")"
   ]
  },
  {
   "cell_type": "code",
   "execution_count": 196,
   "metadata": {},
   "outputs": [],
   "source": [
    "write.csv(data, 'final_covid_data.csv', row.names=FALSE)"
   ]
  }
 ],
 "metadata": {
  "kernelspec": {
   "display_name": "R",
   "language": "R",
   "name": "ir"
  },
  "language_info": {
   "codemirror_mode": "r",
   "file_extension": ".r",
   "mimetype": "text/x-r-source",
   "name": "R",
   "pygments_lexer": "r",
   "version": "3.6.1"
  }
 },
 "nbformat": 4,
 "nbformat_minor": 2
}
